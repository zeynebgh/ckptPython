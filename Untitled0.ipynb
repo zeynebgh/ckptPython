{
  "nbformat": 4,
  "nbformat_minor": 0,
  "metadata": {
    "colab": {
      "name": "Untitled0.ipynb",
      "provenance": []
    },
    "kernelspec": {
      "display_name": "Python 3",
      "name": "python3"
    },
    "language_info": {
      "name": "python"
    }
  },
  "cells": [
    {
      "cell_type": "code",
      "metadata": {
        "colab": {
          "base_uri": "https://localhost:8080/"
        },
        "id": "aezU-eUzlP_5",
        "outputId": "9c49a467-9e23-4cd3-ac26-2e57663e17fc"
      },
      "source": [
        "L= []\n",
        "for i in range (2000,3200):\n",
        "  if i % 7 == 0 and i % 5 != 0:\n",
        "   L.append(i)\n",
        "print(L)\n"
      ],
      "execution_count": null,
      "outputs": [
        {
          "name": "stdout",
          "output_type": "stream",
          "text": [
            "[2002, 2009, 2016, 2023, 2037, 2044, 2051, 2058, 2072, 2079, 2086, 2093, 2107, 2114, 2121, 2128, 2142, 2149, 2156, 2163, 2177, 2184, 2191, 2198, 2212, 2219, 2226, 2233, 2247, 2254, 2261, 2268, 2282, 2289, 2296, 2303, 2317, 2324, 2331, 2338, 2352, 2359, 2366, 2373, 2387, 2394, 2401, 2408, 2422, 2429, 2436, 2443, 2457, 2464, 2471, 2478, 2492, 2499, 2506, 2513, 2527, 2534, 2541, 2548, 2562, 2569, 2576, 2583, 2597, 2604, 2611, 2618, 2632, 2639, 2646, 2653, 2667, 2674, 2681, 2688, 2702, 2709, 2716, 2723, 2737, 2744, 2751, 2758, 2772, 2779, 2786, 2793, 2807, 2814, 2821, 2828, 2842, 2849, 2856, 2863, 2877, 2884, 2891, 2898, 2912, 2919, 2926, 2933, 2947, 2954, 2961, 2968, 2982, 2989, 2996, 3003, 3017, 3024, 3031, 3038, 3052, 3059, 3066, 3073, 3087, 3094, 3101, 3108, 3122, 3129, 3136, 3143, 3157, 3164, 3171, 3178, 3192, 3199]\n"
          ]
        }
      ]
    },
    {
      "cell_type": "code",
      "metadata": {
        "colab": {
          "base_uri": "https://localhost:8080/"
        },
        "id": "imn04_Sos4xt",
        "outputId": "4fb0b008-6219-43b7-b7e3-64fe4708e26b"
      },
      "source": [
        "print(\"donner un nombre\")\n",
        "n=int(input())\n",
        "f=1\n",
        "if n==0:\n",
        "  f=1\n",
        "else:\n",
        " for i in range(2,n+1):\n",
        "   f=f*i\n",
        "print(f)\n",
        "      "
      ],
      "execution_count": null,
      "outputs": [
        {
          "name": "stdout",
          "output_type": "stream",
          "text": [
            "8\n",
            "40320\n"
          ]
        }
      ]
    },
    {
      "cell_type": "code",
      "metadata": {
        "colab": {
          "base_uri": "https://localhost:8080/"
        },
        "id": "1Q-GXBnT5Ksl",
        "outputId": "84f0515a-6371-49c7-e46c-1aa42cdea371"
      },
      "source": [
        "print(\"donner un nombre\")\n",
        "n=int(input())\n",
        "dicto=dict()\n",
        "for i in range (1,n):\n",
        "  k=i*i\n",
        "  dicto[i]=k\n",
        "print(dicto)"
      ],
      "execution_count": null,
      "outputs": [
        {
          "name": "stdout",
          "output_type": "stream",
          "text": [
            "8\n",
            "{1: 1, 2: 4, 3: 9, 4: 16, 5: 25, 6: 36, 7: 49}\n"
          ]
        }
      ]
    },
    {
      "cell_type": "code",
      "metadata": {
        "colab": {
          "base_uri": "https://localhost:8080/",
          "height": 282
        },
        "id": "F7Jsav_q9YpD",
        "outputId": "46d86b39-f8f5-4329-af7f-18a60b0ef9f2"
      },
      "source": [
        "print(\"donner une chaine \")\n",
        "ch=input()\n",
        "n=int(input())\n",
        "while n > len(ch):\n",
        "  print(\"donner un nombre inférieur a\",len(ch))\n",
        "  n=int(input())\n",
        "ch=ch[:n]+ch[n+1:]\n",
        "print(ch)"
      ],
      "execution_count": null,
      "outputs": [
        {
          "name": "stdout",
          "output_type": "stream",
          "text": [
            "donner une chaine \n",
            "ry¸<\n",
            "y\n"
          ]
        },
        {
          "ename": "ValueError",
          "evalue": "ignored",
          "output_type": "error",
          "traceback": [
            "\u001b[0;31m---------------------------------------------------------------------------\u001b[0m",
            "\u001b[0;31mValueError\u001b[0m                                Traceback (most recent call last)",
            "\u001b[0;32m<ipython-input-9-6d50b1d2b1e0>\u001b[0m in \u001b[0;36m<module>\u001b[0;34m()\u001b[0m\n\u001b[1;32m      1\u001b[0m \u001b[0mprint\u001b[0m\u001b[0;34m(\u001b[0m\u001b[0;34m\"donner une chaine \"\u001b[0m\u001b[0;34m)\u001b[0m\u001b[0;34m\u001b[0m\u001b[0;34m\u001b[0m\u001b[0m\n\u001b[1;32m      2\u001b[0m \u001b[0mch\u001b[0m\u001b[0;34m=\u001b[0m\u001b[0minput\u001b[0m\u001b[0;34m(\u001b[0m\u001b[0;34m)\u001b[0m\u001b[0;34m\u001b[0m\u001b[0;34m\u001b[0m\u001b[0m\n\u001b[0;32m----> 3\u001b[0;31m \u001b[0mn\u001b[0m\u001b[0;34m=\u001b[0m\u001b[0mint\u001b[0m\u001b[0;34m(\u001b[0m\u001b[0minput\u001b[0m\u001b[0;34m(\u001b[0m\u001b[0;34m)\u001b[0m\u001b[0;34m)\u001b[0m\u001b[0;34m\u001b[0m\u001b[0;34m\u001b[0m\u001b[0m\n\u001b[0m\u001b[1;32m      4\u001b[0m \u001b[0;32mwhile\u001b[0m \u001b[0mn\u001b[0m \u001b[0;34m>\u001b[0m \u001b[0mlen\u001b[0m\u001b[0;34m(\u001b[0m\u001b[0mch\u001b[0m\u001b[0;34m)\u001b[0m\u001b[0;34m:\u001b[0m\u001b[0;34m\u001b[0m\u001b[0;34m\u001b[0m\u001b[0m\n\u001b[1;32m      5\u001b[0m   \u001b[0mprint\u001b[0m\u001b[0;34m(\u001b[0m\u001b[0;34m\"donner un nombre inférieur a\"\u001b[0m\u001b[0;34m,\u001b[0m\u001b[0mlen\u001b[0m\u001b[0;34m(\u001b[0m\u001b[0mch\u001b[0m\u001b[0;34m)\u001b[0m\u001b[0;34m)\u001b[0m\u001b[0;34m\u001b[0m\u001b[0;34m\u001b[0m\u001b[0m\n",
            "\u001b[0;31mValueError\u001b[0m: invalid literal for int() with base 10: 'y'"
          ]
        }
      ]
    },
    {
      "cell_type": "code",
      "metadata": {
        "colab": {
          "base_uri": "https://localhost:8080/"
        },
        "id": "zc3afOUuGrd8",
        "outputId": "bd1f66ac-8bee-46b2-95d8-44bcd641e8db"
      },
      "source": [
        "import numpy as np\n",
        "x=[1,2,3,4]\n",
        "y=[5,6,7,8]\n",
        "print(\"\\nOriginal array1:\")\n",
        "print(x)\n",
        "print(\"\\nOriginal array1:\")\n",
        "print(y)\n",
        "print(\"\\nCovariance matrix of the said arrays:\\n\",np.cov(x, y))\n"
      ],
      "execution_count": null,
      "outputs": [
        {
          "name": "stdout",
          "output_type": "stream",
          "text": [
            "\n",
            "Original array1:\n",
            "[1, 2, 3, 4]\n",
            "\n",
            "Original array1:\n",
            "[5, 6, 7, 8]\n",
            "\n",
            "Covariance matrix of the said arrays:\n",
            " [[1.66666667 1.66666667]\n",
            " [1.66666667 1.66666667]]\n"
          ]
        }
      ]
    },
    {
      "cell_type": "code",
      "metadata": {
        "colab": {
          "base_uri": "https://localhost:8080/"
        },
        "id": "9ggtRDkVIAqM",
        "outputId": "d7d8321d-2a47-4ad9-ed8b-376e5ab9b7dd"
      },
      "source": [
        "import math\n",
        "print(\"donner les nombres séparés par virgule \")\n",
        "\n",
        "ch=input()\n",
        "L=ch.split(',')\n",
        "P=''\n",
        "lformule=[]\n",
        "for i in L:\n",
        "  i=int(i)\n",
        "  Q = math.sqrt ((2 *50 * i)/30)\n",
        "  Q=round(Q)\n",
        "  lformule.append(str(Q))\n",
        "\n",
        "P = \",\".join(lformule)\n",
        "\n",
        "print(P)\n"
      ],
      "execution_count": 16,
      "outputs": [
        {
          "output_type": "stream",
          "name": "stdout",
          "text": [
            "donner les nombres séparés par virgule \n",
            "23,4,7\n",
            "9,4,5\n"
          ]
        }
      ]
    }
  ]
}